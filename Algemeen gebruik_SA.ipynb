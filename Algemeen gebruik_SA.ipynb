{
 "cells": [
  {
   "cell_type": "markdown",
   "metadata": {},
   "source": [
    "# 1042020_data_variablesonliterature.xlsx 'Algemeen gebruik'"
   ]
  },
  {
   "cell_type": "code",
   "execution_count": 29,
   "metadata": {},
   "outputs": [],
   "source": [
    "#imports\n",
    "import pandas as pd\n",
    "import datetime as dt\n",
    "import numpy as np\n",
    "import itertools\n",
    "from collections import Counter\n",
    "import matplotlib.pyplot as plt\n",
    "import seaborn as sns"
   ]
  },
  {
   "cell_type": "code",
   "execution_count": 58,
   "metadata": {},
   "outputs": [],
   "source": [
    "df = pd.read_excel(\"C:/Users/fdnecker/OneDrive - UGent/UGent/2019-2020/Doctoraat Floor/2019-2020/Smartphone_slaap_SimonA/MobileDNA data/input/ppn_logdagengrgl5.xlsx\")"
   ]
  },
  {
   "cell_type": "code",
   "execution_count": 31,
   "metadata": {},
   "outputs": [
    {
     "name": "stdout",
     "output_type": "stream",
     "text": [
      "<class 'pandas.core.frame.DataFrame'>\n",
      "RangeIndex: 229080 entries, 0 to 229079\n",
      "Data columns (total 27 columns):\n",
      "Unnamed: 0         229080 non-null int64\n",
      "Unnamed: 0.1       229080 non-null int64\n",
      "application        229080 non-null object\n",
      "battery            229080 non-null int64\n",
      "data_version       229080 non-null float64\n",
      "endTime            229080 non-null datetime64[ns]\n",
      "endTimeMillis      229080 non-null int64\n",
      "id                 229080 non-null object\n",
      "latitude           229080 non-null float64\n",
      "longitude          229080 non-null float64\n",
      "model              229080 non-null object\n",
      "notification       229080 non-null bool\n",
      "session            229080 non-null int64\n",
      "startTime          229080 non-null datetime64[ns]\n",
      "startTimeMillis    229080 non-null int64\n",
      "studyKey           229080 non-null object\n",
      "surveyId           229080 non-null object\n",
      "dag                229080 non-null datetime64[ns]\n",
      "uur                229080 non-null int64\n",
      "duur               229080 non-null int64\n",
      "duur_sec           229080 non-null float64\n",
      "duur_min           229080 non-null float64\n",
      "appname            223556 non-null object\n",
      "fancyname          168148 non-null object\n",
      "category           223556 non-null object\n",
      "gebruik            229080 non-null object\n",
      "category_v1        223556 non-null object\n",
      "dtypes: bool(1), datetime64[ns](3), float64(5), int64(8), object(10)\n",
      "memory usage: 45.7+ MB\n"
     ]
    }
   ],
   "source": [
    "df.info()"
   ]
  },
  {
   "cell_type": "code",
   "execution_count": 32,
   "metadata": {},
   "outputs": [
    {
     "data": {
      "text/html": [
       "<div>\n",
       "<style scoped>\n",
       "    .dataframe tbody tr th:only-of-type {\n",
       "        vertical-align: middle;\n",
       "    }\n",
       "\n",
       "    .dataframe tbody tr th {\n",
       "        vertical-align: top;\n",
       "    }\n",
       "\n",
       "    .dataframe thead th {\n",
       "        text-align: right;\n",
       "    }\n",
       "</style>\n",
       "<table border=\"1\" class=\"dataframe\">\n",
       "  <thead>\n",
       "    <tr style=\"text-align: right;\">\n",
       "      <th></th>\n",
       "      <th>Unnamed: 0</th>\n",
       "      <th>Unnamed: 0.1</th>\n",
       "      <th>application</th>\n",
       "      <th>battery</th>\n",
       "      <th>data_version</th>\n",
       "      <th>endTime</th>\n",
       "      <th>endTimeMillis</th>\n",
       "      <th>id</th>\n",
       "      <th>latitude</th>\n",
       "      <th>longitude</th>\n",
       "      <th>...</th>\n",
       "      <th>dag</th>\n",
       "      <th>uur</th>\n",
       "      <th>duur</th>\n",
       "      <th>duur_sec</th>\n",
       "      <th>duur_min</th>\n",
       "      <th>appname</th>\n",
       "      <th>fancyname</th>\n",
       "      <th>category</th>\n",
       "      <th>gebruik</th>\n",
       "      <th>category_v1</th>\n",
       "    </tr>\n",
       "  </thead>\n",
       "  <tbody>\n",
       "    <tr>\n",
       "      <td>0</td>\n",
       "      <td>0</td>\n",
       "      <td>0</td>\n",
       "      <td>be.ugent.mobiledna</td>\n",
       "      <td>94</td>\n",
       "      <td>1.5</td>\n",
       "      <td>2018-12-27 12:13:44.834</td>\n",
       "      <td>1545909224834</td>\n",
       "      <td>a011f110-bd7a-49ca-8e0c-a3368e84cf12</td>\n",
       "      <td>51.184188</td>\n",
       "      <td>3.740566</td>\n",
       "      <td>...</td>\n",
       "      <td>2018-12-27</td>\n",
       "      <td>12</td>\n",
       "      <td>2401</td>\n",
       "      <td>2.401</td>\n",
       "      <td>0.040017</td>\n",
       "      <td>be.ugent.mobiledna</td>\n",
       "      <td>mobileDNA</td>\n",
       "      <td>lifestyle</td>\n",
       "      <td>overdag gebruik</td>\n",
       "      <td>lifestyle</td>\n",
       "    </tr>\n",
       "    <tr>\n",
       "      <td>1</td>\n",
       "      <td>1</td>\n",
       "      <td>1</td>\n",
       "      <td>com.sec.android.app.sbrowser</td>\n",
       "      <td>94</td>\n",
       "      <td>1.5</td>\n",
       "      <td>2018-12-27 12:14:40.919</td>\n",
       "      <td>1545909280919</td>\n",
       "      <td>a011f110-bd7a-49ca-8e0c-a3368e84cf12</td>\n",
       "      <td>51.184188</td>\n",
       "      <td>3.740566</td>\n",
       "      <td>...</td>\n",
       "      <td>2018-12-27</td>\n",
       "      <td>12</td>\n",
       "      <td>56071</td>\n",
       "      <td>56.071</td>\n",
       "      <td>0.934517</td>\n",
       "      <td>com.sec.android.app.sbrowser</td>\n",
       "      <td>Samsung Internet Browser</td>\n",
       "      <td>communication</td>\n",
       "      <td>overdag gebruik</td>\n",
       "      <td>communication</td>\n",
       "    </tr>\n",
       "    <tr>\n",
       "      <td>2</td>\n",
       "      <td>2</td>\n",
       "      <td>2</td>\n",
       "      <td>com.android.systemui</td>\n",
       "      <td>87</td>\n",
       "      <td>1.5</td>\n",
       "      <td>2018-12-27 13:59:19.398</td>\n",
       "      <td>1545915559398</td>\n",
       "      <td>a011f110-bd7a-49ca-8e0c-a3368e84cf12</td>\n",
       "      <td>51.184110</td>\n",
       "      <td>3.740284</td>\n",
       "      <td>...</td>\n",
       "      <td>2018-12-27</td>\n",
       "      <td>13</td>\n",
       "      <td>1379</td>\n",
       "      <td>1.379</td>\n",
       "      <td>0.022983</td>\n",
       "      <td>com.android.systemui</td>\n",
       "      <td>NaN</td>\n",
       "      <td>system</td>\n",
       "      <td>overdag gebruik</td>\n",
       "      <td>system</td>\n",
       "    </tr>\n",
       "    <tr>\n",
       "      <td>3</td>\n",
       "      <td>3</td>\n",
       "      <td>3</td>\n",
       "      <td>be.argenta.bankieren</td>\n",
       "      <td>87</td>\n",
       "      <td>1.5</td>\n",
       "      <td>2018-12-27 13:59:38.957</td>\n",
       "      <td>1545915578957</td>\n",
       "      <td>a011f110-bd7a-49ca-8e0c-a3368e84cf12</td>\n",
       "      <td>51.184110</td>\n",
       "      <td>3.740284</td>\n",
       "      <td>...</td>\n",
       "      <td>2018-12-27</td>\n",
       "      <td>13</td>\n",
       "      <td>19525</td>\n",
       "      <td>19.525</td>\n",
       "      <td>0.325417</td>\n",
       "      <td>be.argenta.bankieren</td>\n",
       "      <td>Argenta Banking</td>\n",
       "      <td>finance</td>\n",
       "      <td>overdag gebruik</td>\n",
       "      <td>finance</td>\n",
       "    </tr>\n",
       "    <tr>\n",
       "      <td>4</td>\n",
       "      <td>4</td>\n",
       "      <td>4</td>\n",
       "      <td>com.android.systemui</td>\n",
       "      <td>87</td>\n",
       "      <td>1.5</td>\n",
       "      <td>2018-12-27 14:01:00.165</td>\n",
       "      <td>1545915660165</td>\n",
       "      <td>a011f110-bd7a-49ca-8e0c-a3368e84cf12</td>\n",
       "      <td>51.184110</td>\n",
       "      <td>3.740284</td>\n",
       "      <td>...</td>\n",
       "      <td>2018-12-27</td>\n",
       "      <td>14</td>\n",
       "      <td>891</td>\n",
       "      <td>0.891</td>\n",
       "      <td>0.014850</td>\n",
       "      <td>com.android.systemui</td>\n",
       "      <td>NaN</td>\n",
       "      <td>system</td>\n",
       "      <td>overdag gebruik</td>\n",
       "      <td>system</td>\n",
       "    </tr>\n",
       "  </tbody>\n",
       "</table>\n",
       "<p>5 rows × 27 columns</p>\n",
       "</div>"
      ],
      "text/plain": [
       "   Unnamed: 0  Unnamed: 0.1                   application  battery  \\\n",
       "0           0             0            be.ugent.mobiledna       94   \n",
       "1           1             1  com.sec.android.app.sbrowser       94   \n",
       "2           2             2          com.android.systemui       87   \n",
       "3           3             3          be.argenta.bankieren       87   \n",
       "4           4             4          com.android.systemui       87   \n",
       "\n",
       "   data_version                 endTime  endTimeMillis  \\\n",
       "0           1.5 2018-12-27 12:13:44.834  1545909224834   \n",
       "1           1.5 2018-12-27 12:14:40.919  1545909280919   \n",
       "2           1.5 2018-12-27 13:59:19.398  1545915559398   \n",
       "3           1.5 2018-12-27 13:59:38.957  1545915578957   \n",
       "4           1.5 2018-12-27 14:01:00.165  1545915660165   \n",
       "\n",
       "                                     id   latitude  longitude  ...        dag  \\\n",
       "0  a011f110-bd7a-49ca-8e0c-a3368e84cf12  51.184188   3.740566  ... 2018-12-27   \n",
       "1  a011f110-bd7a-49ca-8e0c-a3368e84cf12  51.184188   3.740566  ... 2018-12-27   \n",
       "2  a011f110-bd7a-49ca-8e0c-a3368e84cf12  51.184110   3.740284  ... 2018-12-27   \n",
       "3  a011f110-bd7a-49ca-8e0c-a3368e84cf12  51.184110   3.740284  ... 2018-12-27   \n",
       "4  a011f110-bd7a-49ca-8e0c-a3368e84cf12  51.184110   3.740284  ... 2018-12-27   \n",
       "\n",
       "   uur   duur duur_sec  duur_min                       appname  \\\n",
       "0   12   2401    2.401  0.040017            be.ugent.mobiledna   \n",
       "1   12  56071   56.071  0.934517  com.sec.android.app.sbrowser   \n",
       "2   13   1379    1.379  0.022983          com.android.systemui   \n",
       "3   13  19525   19.525  0.325417          be.argenta.bankieren   \n",
       "4   14    891    0.891  0.014850          com.android.systemui   \n",
       "\n",
       "                  fancyname       category          gebruik    category_v1  \n",
       "0                 mobileDNA      lifestyle  overdag gebruik      lifestyle  \n",
       "1  Samsung Internet Browser  communication  overdag gebruik  communication  \n",
       "2                       NaN         system  overdag gebruik         system  \n",
       "3           Argenta Banking        finance  overdag gebruik        finance  \n",
       "4                       NaN         system  overdag gebruik         system  \n",
       "\n",
       "[5 rows x 27 columns]"
      ]
     },
     "execution_count": 32,
     "metadata": {},
     "output_type": "execute_result"
    }
   ],
   "source": [
    "df.head()"
   ]
  },
  {
   "cell_type": "markdown",
   "metadata": {},
   "source": [
    "## Variabele 1 = gem_freq_d; gemiddelde dagelijkse frequentie van smartphonegebruik"
   ]
  },
  {
   "cell_type": "code",
   "execution_count": 26,
   "metadata": {},
   "outputs": [],
   "source": [
    "gem_freq_d = df.groupby(['id', 'dag'])['fancyname'].count().groupby('id').mean()"
   ]
  },
  {
   "cell_type": "code",
   "execution_count": 28,
   "metadata": {},
   "outputs": [],
   "source": [
    "gem_freq_d.to_excel('gem_freq_d.xlsx')"
   ]
  },
  {
   "cell_type": "markdown",
   "metadata": {},
   "source": [
    "## Variabele 2 = per_d_gr_4u; percentage dagen met dagelijks meer dan 4 u smartphonegebruik"
   ]
  },
  {
   "cell_type": "markdown",
   "metadata": {},
   "source": [
    "### Eerst gem_duur_min_d herberekenen (checken en als basis hiervoor)"
   ]
  },
  {
   "cell_type": "code",
   "execution_count": 72,
   "metadata": {},
   "outputs": [],
   "source": [
    "gem_duur_min_d = df.groupby(['id', 'dag'])['duur_min'].sum().groupby('id').mean()"
   ]
  },
  {
   "cell_type": "code",
   "execution_count": 39,
   "metadata": {},
   "outputs": [],
   "source": [
    "gem_duur_min_d.to_excel('gem_duur_min_d.xlsx')"
   ]
  },
  {
   "cell_type": "code",
   "execution_count": 40,
   "metadata": {},
   "outputs": [],
   "source": [
    "limiet1 = 2 * 60"
   ]
  },
  {
   "cell_type": "code",
   "execution_count": 77,
   "metadata": {},
   "outputs": [],
   "source": [
    "df_new = df.groupby(['id', 'dag'])['duur_min'].sum()"
   ]
  },
  {
   "cell_type": "code",
   "execution_count": 81,
   "metadata": {},
   "outputs": [],
   "source": [
    "df_new = df_new.to_frame()"
   ]
  },
  {
   "cell_type": "code",
   "execution_count": 82,
   "metadata": {},
   "outputs": [],
   "source": [
    "df_new = df_new.fillna(method='ffill')"
   ]
  },
  {
   "cell_type": "code",
   "execution_count": 83,
   "metadata": {},
   "outputs": [
    {
     "data": {
      "text/html": [
       "<div>\n",
       "<style scoped>\n",
       "    .dataframe tbody tr th:only-of-type {\n",
       "        vertical-align: middle;\n",
       "    }\n",
       "\n",
       "    .dataframe tbody tr th {\n",
       "        vertical-align: top;\n",
       "    }\n",
       "\n",
       "    .dataframe thead th {\n",
       "        text-align: right;\n",
       "    }\n",
       "</style>\n",
       "<table border=\"1\" class=\"dataframe\">\n",
       "  <thead>\n",
       "    <tr style=\"text-align: right;\">\n",
       "      <th></th>\n",
       "      <th></th>\n",
       "      <th>duur_min</th>\n",
       "    </tr>\n",
       "    <tr>\n",
       "      <th>id</th>\n",
       "      <th>dag</th>\n",
       "      <th></th>\n",
       "    </tr>\n",
       "  </thead>\n",
       "  <tbody>\n",
       "    <tr>\n",
       "      <td rowspan=\"5\" valign=\"top\">025a9d5a-8728-434d-9de6-9c263e7bf5cc</td>\n",
       "      <td>2018-12-21</td>\n",
       "      <td>63.174383</td>\n",
       "    </tr>\n",
       "    <tr>\n",
       "      <td>2018-12-22</td>\n",
       "      <td>28.295283</td>\n",
       "    </tr>\n",
       "    <tr>\n",
       "      <td>2018-12-23</td>\n",
       "      <td>48.652317</td>\n",
       "    </tr>\n",
       "    <tr>\n",
       "      <td>2018-12-24</td>\n",
       "      <td>96.388067</td>\n",
       "    </tr>\n",
       "    <tr>\n",
       "      <td>2018-12-25</td>\n",
       "      <td>64.702883</td>\n",
       "    </tr>\n",
       "    <tr>\n",
       "      <td>...</td>\n",
       "      <td>...</td>\n",
       "      <td>...</td>\n",
       "    </tr>\n",
       "    <tr>\n",
       "      <td rowspan=\"5\" valign=\"top\">f9b010d8-45b9-498f-a465-b6355cbdd7e3</td>\n",
       "      <td>2019-01-02</td>\n",
       "      <td>4.486917</td>\n",
       "    </tr>\n",
       "    <tr>\n",
       "      <td>2019-01-03</td>\n",
       "      <td>9.414233</td>\n",
       "    </tr>\n",
       "    <tr>\n",
       "      <td>2019-01-04</td>\n",
       "      <td>5.373333</td>\n",
       "    </tr>\n",
       "    <tr>\n",
       "      <td>2019-01-05</td>\n",
       "      <td>11.477900</td>\n",
       "    </tr>\n",
       "    <tr>\n",
       "      <td>2019-01-06</td>\n",
       "      <td>13.809867</td>\n",
       "    </tr>\n",
       "  </tbody>\n",
       "</table>\n",
       "<p>1626 rows × 1 columns</p>\n",
       "</div>"
      ],
      "text/plain": [
       "                                                  duur_min\n",
       "id                                   dag                  \n",
       "025a9d5a-8728-434d-9de6-9c263e7bf5cc 2018-12-21  63.174383\n",
       "                                     2018-12-22  28.295283\n",
       "                                     2018-12-23  48.652317\n",
       "                                     2018-12-24  96.388067\n",
       "                                     2018-12-25  64.702883\n",
       "...                                                    ...\n",
       "f9b010d8-45b9-498f-a465-b6355cbdd7e3 2019-01-02   4.486917\n",
       "                                     2019-01-03   9.414233\n",
       "                                     2019-01-04   5.373333\n",
       "                                     2019-01-05  11.477900\n",
       "                                     2019-01-06  13.809867\n",
       "\n",
       "[1626 rows x 1 columns]"
      ]
     },
     "execution_count": 83,
     "metadata": {},
     "output_type": "execute_result"
    }
   ],
   "source": [
    "df_new"
   ]
  },
  {
   "cell_type": "code",
   "execution_count": 84,
   "metadata": {},
   "outputs": [],
   "source": [
    "df_new.to_excel('df_new.xlsx')"
   ]
  },
  {
   "cell_type": "code",
   "execution_count": 92,
   "metadata": {},
   "outputs": [],
   "source": [
    "df_new = pd.read_excel('C:/Users/fdnecker/OneDrive - UGent/UGent/2019-2020/Doctoraat Floor/2019-2020/Smartphone_slaap_SimonA/MobileDNA data/input/df_new.xlsx')"
   ]
  },
  {
   "cell_type": "code",
   "execution_count": 93,
   "metadata": {},
   "outputs": [],
   "source": [
    "df_new =  df_new.fillna(method='ffill')"
   ]
  },
  {
   "cell_type": "code",
   "execution_count": 94,
   "metadata": {},
   "outputs": [
    {
     "data": {
      "text/html": [
       "<div>\n",
       "<style scoped>\n",
       "    .dataframe tbody tr th:only-of-type {\n",
       "        vertical-align: middle;\n",
       "    }\n",
       "\n",
       "    .dataframe tbody tr th {\n",
       "        vertical-align: top;\n",
       "    }\n",
       "\n",
       "    .dataframe thead th {\n",
       "        text-align: right;\n",
       "    }\n",
       "</style>\n",
       "<table border=\"1\" class=\"dataframe\">\n",
       "  <thead>\n",
       "    <tr style=\"text-align: right;\">\n",
       "      <th></th>\n",
       "      <th>id</th>\n",
       "      <th>dag</th>\n",
       "      <th>duur_min</th>\n",
       "    </tr>\n",
       "  </thead>\n",
       "  <tbody>\n",
       "    <tr>\n",
       "      <td>0</td>\n",
       "      <td>025a9d5a-8728-434d-9de6-9c263e7bf5cc</td>\n",
       "      <td>2018-12-21</td>\n",
       "      <td>63.174383</td>\n",
       "    </tr>\n",
       "    <tr>\n",
       "      <td>1</td>\n",
       "      <td>025a9d5a-8728-434d-9de6-9c263e7bf5cc</td>\n",
       "      <td>2018-12-22</td>\n",
       "      <td>28.295283</td>\n",
       "    </tr>\n",
       "    <tr>\n",
       "      <td>2</td>\n",
       "      <td>025a9d5a-8728-434d-9de6-9c263e7bf5cc</td>\n",
       "      <td>2018-12-23</td>\n",
       "      <td>48.652317</td>\n",
       "    </tr>\n",
       "    <tr>\n",
       "      <td>3</td>\n",
       "      <td>025a9d5a-8728-434d-9de6-9c263e7bf5cc</td>\n",
       "      <td>2018-12-24</td>\n",
       "      <td>96.388067</td>\n",
       "    </tr>\n",
       "    <tr>\n",
       "      <td>4</td>\n",
       "      <td>025a9d5a-8728-434d-9de6-9c263e7bf5cc</td>\n",
       "      <td>2018-12-25</td>\n",
       "      <td>64.702883</td>\n",
       "    </tr>\n",
       "    <tr>\n",
       "      <td>...</td>\n",
       "      <td>...</td>\n",
       "      <td>...</td>\n",
       "      <td>...</td>\n",
       "    </tr>\n",
       "    <tr>\n",
       "      <td>1621</td>\n",
       "      <td>f9b010d8-45b9-498f-a465-b6355cbdd7e3</td>\n",
       "      <td>2019-01-02</td>\n",
       "      <td>4.486917</td>\n",
       "    </tr>\n",
       "    <tr>\n",
       "      <td>1622</td>\n",
       "      <td>f9b010d8-45b9-498f-a465-b6355cbdd7e3</td>\n",
       "      <td>2019-01-03</td>\n",
       "      <td>9.414233</td>\n",
       "    </tr>\n",
       "    <tr>\n",
       "      <td>1623</td>\n",
       "      <td>f9b010d8-45b9-498f-a465-b6355cbdd7e3</td>\n",
       "      <td>2019-01-04</td>\n",
       "      <td>5.373333</td>\n",
       "    </tr>\n",
       "    <tr>\n",
       "      <td>1624</td>\n",
       "      <td>f9b010d8-45b9-498f-a465-b6355cbdd7e3</td>\n",
       "      <td>2019-01-05</td>\n",
       "      <td>11.477900</td>\n",
       "    </tr>\n",
       "    <tr>\n",
       "      <td>1625</td>\n",
       "      <td>f9b010d8-45b9-498f-a465-b6355cbdd7e3</td>\n",
       "      <td>2019-01-06</td>\n",
       "      <td>13.809867</td>\n",
       "    </tr>\n",
       "  </tbody>\n",
       "</table>\n",
       "<p>1626 rows × 3 columns</p>\n",
       "</div>"
      ],
      "text/plain": [
       "                                        id        dag   duur_min\n",
       "0     025a9d5a-8728-434d-9de6-9c263e7bf5cc 2018-12-21  63.174383\n",
       "1     025a9d5a-8728-434d-9de6-9c263e7bf5cc 2018-12-22  28.295283\n",
       "2     025a9d5a-8728-434d-9de6-9c263e7bf5cc 2018-12-23  48.652317\n",
       "3     025a9d5a-8728-434d-9de6-9c263e7bf5cc 2018-12-24  96.388067\n",
       "4     025a9d5a-8728-434d-9de6-9c263e7bf5cc 2018-12-25  64.702883\n",
       "...                                    ...        ...        ...\n",
       "1621  f9b010d8-45b9-498f-a465-b6355cbdd7e3 2019-01-02   4.486917\n",
       "1622  f9b010d8-45b9-498f-a465-b6355cbdd7e3 2019-01-03   9.414233\n",
       "1623  f9b010d8-45b9-498f-a465-b6355cbdd7e3 2019-01-04   5.373333\n",
       "1624  f9b010d8-45b9-498f-a465-b6355cbdd7e3 2019-01-05  11.477900\n",
       "1625  f9b010d8-45b9-498f-a465-b6355cbdd7e3 2019-01-06  13.809867\n",
       "\n",
       "[1626 rows x 3 columns]"
      ]
     },
     "execution_count": 94,
     "metadata": {},
     "output_type": "execute_result"
    }
   ],
   "source": [
    "df_new"
   ]
  },
  {
   "cell_type": "code",
   "execution_count": 95,
   "metadata": {},
   "outputs": [],
   "source": [
    "def grenstwee (row):\n",
    "    twee = row[\"duur_min\"]\n",
    "    \n",
    "    if (twee > 120):\n",
    "        return \"meer dan 2u\"\n",
    "    else:\n",
    "        return \"minder dan 2u\""
   ]
  },
  {
   "cell_type": "code",
   "execution_count": 96,
   "metadata": {},
   "outputs": [],
   "source": [
    "df_new['grens1'] = df_new.apply(grenstwee, axis=1)"
   ]
  },
  {
   "cell_type": "code",
   "execution_count": 97,
   "metadata": {},
   "outputs": [
    {
     "data": {
      "text/html": [
       "<div>\n",
       "<style scoped>\n",
       "    .dataframe tbody tr th:only-of-type {\n",
       "        vertical-align: middle;\n",
       "    }\n",
       "\n",
       "    .dataframe tbody tr th {\n",
       "        vertical-align: top;\n",
       "    }\n",
       "\n",
       "    .dataframe thead th {\n",
       "        text-align: right;\n",
       "    }\n",
       "</style>\n",
       "<table border=\"1\" class=\"dataframe\">\n",
       "  <thead>\n",
       "    <tr style=\"text-align: right;\">\n",
       "      <th></th>\n",
       "      <th>id</th>\n",
       "      <th>dag</th>\n",
       "      <th>duur_min</th>\n",
       "      <th>grens1</th>\n",
       "    </tr>\n",
       "  </thead>\n",
       "  <tbody>\n",
       "    <tr>\n",
       "      <td>0</td>\n",
       "      <td>025a9d5a-8728-434d-9de6-9c263e7bf5cc</td>\n",
       "      <td>2018-12-21</td>\n",
       "      <td>63.174383</td>\n",
       "      <td>minder dan 2u</td>\n",
       "    </tr>\n",
       "    <tr>\n",
       "      <td>1</td>\n",
       "      <td>025a9d5a-8728-434d-9de6-9c263e7bf5cc</td>\n",
       "      <td>2018-12-22</td>\n",
       "      <td>28.295283</td>\n",
       "      <td>minder dan 2u</td>\n",
       "    </tr>\n",
       "    <tr>\n",
       "      <td>2</td>\n",
       "      <td>025a9d5a-8728-434d-9de6-9c263e7bf5cc</td>\n",
       "      <td>2018-12-23</td>\n",
       "      <td>48.652317</td>\n",
       "      <td>minder dan 2u</td>\n",
       "    </tr>\n",
       "    <tr>\n",
       "      <td>3</td>\n",
       "      <td>025a9d5a-8728-434d-9de6-9c263e7bf5cc</td>\n",
       "      <td>2018-12-24</td>\n",
       "      <td>96.388067</td>\n",
       "      <td>minder dan 2u</td>\n",
       "    </tr>\n",
       "    <tr>\n",
       "      <td>4</td>\n",
       "      <td>025a9d5a-8728-434d-9de6-9c263e7bf5cc</td>\n",
       "      <td>2018-12-25</td>\n",
       "      <td>64.702883</td>\n",
       "      <td>minder dan 2u</td>\n",
       "    </tr>\n",
       "  </tbody>\n",
       "</table>\n",
       "</div>"
      ],
      "text/plain": [
       "                                     id        dag   duur_min         grens1\n",
       "0  025a9d5a-8728-434d-9de6-9c263e7bf5cc 2018-12-21  63.174383  minder dan 2u\n",
       "1  025a9d5a-8728-434d-9de6-9c263e7bf5cc 2018-12-22  28.295283  minder dan 2u\n",
       "2  025a9d5a-8728-434d-9de6-9c263e7bf5cc 2018-12-23  48.652317  minder dan 2u\n",
       "3  025a9d5a-8728-434d-9de6-9c263e7bf5cc 2018-12-24  96.388067  minder dan 2u\n",
       "4  025a9d5a-8728-434d-9de6-9c263e7bf5cc 2018-12-25  64.702883  minder dan 2u"
      ]
     },
     "execution_count": 97,
     "metadata": {},
     "output_type": "execute_result"
    }
   ],
   "source": [
    "df_new.head()"
   ]
  },
  {
   "cell_type": "code",
   "execution_count": 99,
   "metadata": {},
   "outputs": [],
   "source": [
    "grens1 = df_new.groupby('id')['grens1'].value_counts()"
   ]
  },
  {
   "cell_type": "code",
   "execution_count": 102,
   "metadata": {},
   "outputs": [],
   "source": [
    "grens1 = grens1.to_frame()"
   ]
  },
  {
   "cell_type": "code",
   "execution_count": 103,
   "metadata": {},
   "outputs": [
    {
     "data": {
      "text/html": [
       "<div>\n",
       "<style scoped>\n",
       "    .dataframe tbody tr th:only-of-type {\n",
       "        vertical-align: middle;\n",
       "    }\n",
       "\n",
       "    .dataframe tbody tr th {\n",
       "        vertical-align: top;\n",
       "    }\n",
       "\n",
       "    .dataframe thead th {\n",
       "        text-align: right;\n",
       "    }\n",
       "</style>\n",
       "<table border=\"1\" class=\"dataframe\">\n",
       "  <thead>\n",
       "    <tr style=\"text-align: right;\">\n",
       "      <th></th>\n",
       "      <th></th>\n",
       "      <th>grens1</th>\n",
       "    </tr>\n",
       "    <tr>\n",
       "      <th>id</th>\n",
       "      <th>grens1</th>\n",
       "      <th></th>\n",
       "    </tr>\n",
       "  </thead>\n",
       "  <tbody>\n",
       "    <tr>\n",
       "      <td rowspan=\"2\" valign=\"top\">025a9d5a-8728-434d-9de6-9c263e7bf5cc</td>\n",
       "      <td>minder dan 2u</td>\n",
       "      <td>9</td>\n",
       "    </tr>\n",
       "    <tr>\n",
       "      <td>meer dan 2u</td>\n",
       "      <td>8</td>\n",
       "    </tr>\n",
       "    <tr>\n",
       "      <td rowspan=\"2\" valign=\"top\">11159c15-a951-4219-850d-c33768509b01</td>\n",
       "      <td>meer dan 2u</td>\n",
       "      <td>15</td>\n",
       "    </tr>\n",
       "    <tr>\n",
       "      <td>minder dan 2u</td>\n",
       "      <td>2</td>\n",
       "    </tr>\n",
       "    <tr>\n",
       "      <td>1201c8b4-6a0b-45f0-ac63-04b258d6d668</td>\n",
       "      <td>meer dan 2u</td>\n",
       "      <td>16</td>\n",
       "    </tr>\n",
       "    <tr>\n",
       "      <td>...</td>\n",
       "      <td>...</td>\n",
       "      <td>...</td>\n",
       "    </tr>\n",
       "    <tr>\n",
       "      <td>f3d282d8-1be9-4cde-aa37-21e4dbacd77b</td>\n",
       "      <td>minder dan 2u</td>\n",
       "      <td>7</td>\n",
       "    </tr>\n",
       "    <tr>\n",
       "      <td rowspan=\"2\" valign=\"top\">f6b9965f-312a-44e8-a54c-ea16242894fa</td>\n",
       "      <td>minder dan 2u</td>\n",
       "      <td>16</td>\n",
       "    </tr>\n",
       "    <tr>\n",
       "      <td>meer dan 2u</td>\n",
       "      <td>1</td>\n",
       "    </tr>\n",
       "    <tr>\n",
       "      <td rowspan=\"2\" valign=\"top\">f9b010d8-45b9-498f-a465-b6355cbdd7e3</td>\n",
       "      <td>minder dan 2u</td>\n",
       "      <td>16</td>\n",
       "    </tr>\n",
       "    <tr>\n",
       "      <td>meer dan 2u</td>\n",
       "      <td>1</td>\n",
       "    </tr>\n",
       "  </tbody>\n",
       "</table>\n",
       "<p>189 rows × 1 columns</p>\n",
       "</div>"
      ],
      "text/plain": [
       "                                                    grens1\n",
       "id                                   grens1               \n",
       "025a9d5a-8728-434d-9de6-9c263e7bf5cc minder dan 2u       9\n",
       "                                     meer dan 2u         8\n",
       "11159c15-a951-4219-850d-c33768509b01 meer dan 2u        15\n",
       "                                     minder dan 2u       2\n",
       "1201c8b4-6a0b-45f0-ac63-04b258d6d668 meer dan 2u        16\n",
       "...                                                    ...\n",
       "f3d282d8-1be9-4cde-aa37-21e4dbacd77b minder dan 2u       7\n",
       "f6b9965f-312a-44e8-a54c-ea16242894fa minder dan 2u      16\n",
       "                                     meer dan 2u         1\n",
       "f9b010d8-45b9-498f-a465-b6355cbdd7e3 minder dan 2u      16\n",
       "                                     meer dan 2u         1\n",
       "\n",
       "[189 rows x 1 columns]"
      ]
     },
     "execution_count": 103,
     "metadata": {},
     "output_type": "execute_result"
    }
   ],
   "source": [
    "grens1"
   ]
  },
  {
   "cell_type": "code",
   "execution_count": 105,
   "metadata": {},
   "outputs": [],
   "source": [
    "grens1.to_excel('grens1.xlsx')"
   ]
  },
  {
   "cell_type": "markdown",
   "metadata": {},
   "source": [
    "## Variabele 3 = per_d_gr_2u; percentage dagen met dagelijks meer dan 2 u smartphonegebruik"
   ]
  },
  {
   "cell_type": "code",
   "execution_count": 106,
   "metadata": {},
   "outputs": [],
   "source": [
    "def grensvier (row):\n",
    "    twee = row[\"duur_min\"]\n",
    "    \n",
    "    if (twee > 240):\n",
    "        return \"meer dan 4u\"\n",
    "    else:\n",
    "        return \"minder dan 4u\""
   ]
  },
  {
   "cell_type": "code",
   "execution_count": 107,
   "metadata": {},
   "outputs": [],
   "source": [
    "df_new['grens2'] = df_new.apply(grensvier, axis=1)"
   ]
  },
  {
   "cell_type": "code",
   "execution_count": 108,
   "metadata": {},
   "outputs": [
    {
     "data": {
      "text/html": [
       "<div>\n",
       "<style scoped>\n",
       "    .dataframe tbody tr th:only-of-type {\n",
       "        vertical-align: middle;\n",
       "    }\n",
       "\n",
       "    .dataframe tbody tr th {\n",
       "        vertical-align: top;\n",
       "    }\n",
       "\n",
       "    .dataframe thead th {\n",
       "        text-align: right;\n",
       "    }\n",
       "</style>\n",
       "<table border=\"1\" class=\"dataframe\">\n",
       "  <thead>\n",
       "    <tr style=\"text-align: right;\">\n",
       "      <th></th>\n",
       "      <th>id</th>\n",
       "      <th>dag</th>\n",
       "      <th>duur_min</th>\n",
       "      <th>grens1</th>\n",
       "      <th>grens2</th>\n",
       "    </tr>\n",
       "  </thead>\n",
       "  <tbody>\n",
       "    <tr>\n",
       "      <td>0</td>\n",
       "      <td>025a9d5a-8728-434d-9de6-9c263e7bf5cc</td>\n",
       "      <td>2018-12-21</td>\n",
       "      <td>63.174383</td>\n",
       "      <td>minder dan 2u</td>\n",
       "      <td>minder dan 4u</td>\n",
       "    </tr>\n",
       "    <tr>\n",
       "      <td>1</td>\n",
       "      <td>025a9d5a-8728-434d-9de6-9c263e7bf5cc</td>\n",
       "      <td>2018-12-22</td>\n",
       "      <td>28.295283</td>\n",
       "      <td>minder dan 2u</td>\n",
       "      <td>minder dan 4u</td>\n",
       "    </tr>\n",
       "    <tr>\n",
       "      <td>2</td>\n",
       "      <td>025a9d5a-8728-434d-9de6-9c263e7bf5cc</td>\n",
       "      <td>2018-12-23</td>\n",
       "      <td>48.652317</td>\n",
       "      <td>minder dan 2u</td>\n",
       "      <td>minder dan 4u</td>\n",
       "    </tr>\n",
       "    <tr>\n",
       "      <td>3</td>\n",
       "      <td>025a9d5a-8728-434d-9de6-9c263e7bf5cc</td>\n",
       "      <td>2018-12-24</td>\n",
       "      <td>96.388067</td>\n",
       "      <td>minder dan 2u</td>\n",
       "      <td>minder dan 4u</td>\n",
       "    </tr>\n",
       "    <tr>\n",
       "      <td>4</td>\n",
       "      <td>025a9d5a-8728-434d-9de6-9c263e7bf5cc</td>\n",
       "      <td>2018-12-25</td>\n",
       "      <td>64.702883</td>\n",
       "      <td>minder dan 2u</td>\n",
       "      <td>minder dan 4u</td>\n",
       "    </tr>\n",
       "  </tbody>\n",
       "</table>\n",
       "</div>"
      ],
      "text/plain": [
       "                                     id        dag   duur_min         grens1  \\\n",
       "0  025a9d5a-8728-434d-9de6-9c263e7bf5cc 2018-12-21  63.174383  minder dan 2u   \n",
       "1  025a9d5a-8728-434d-9de6-9c263e7bf5cc 2018-12-22  28.295283  minder dan 2u   \n",
       "2  025a9d5a-8728-434d-9de6-9c263e7bf5cc 2018-12-23  48.652317  minder dan 2u   \n",
       "3  025a9d5a-8728-434d-9de6-9c263e7bf5cc 2018-12-24  96.388067  minder dan 2u   \n",
       "4  025a9d5a-8728-434d-9de6-9c263e7bf5cc 2018-12-25  64.702883  minder dan 2u   \n",
       "\n",
       "          grens2  \n",
       "0  minder dan 4u  \n",
       "1  minder dan 4u  \n",
       "2  minder dan 4u  \n",
       "3  minder dan 4u  \n",
       "4  minder dan 4u  "
      ]
     },
     "execution_count": 108,
     "metadata": {},
     "output_type": "execute_result"
    }
   ],
   "source": [
    "df_new.head()"
   ]
  },
  {
   "cell_type": "code",
   "execution_count": 109,
   "metadata": {},
   "outputs": [],
   "source": [
    "grens2 = df_new.groupby('id')['grens2'].value_counts()"
   ]
  },
  {
   "cell_type": "code",
   "execution_count": 110,
   "metadata": {},
   "outputs": [],
   "source": [
    "grens2.to_excel('grens2.xlsx')"
   ]
  },
  {
   "cell_type": "markdown",
   "metadata": {},
   "source": [
    "## Variabele 4 = per_d_prob_freq; percentage van dagen met frequentie van dagelijks smartphonegebruik 1 SD boven algemeen gemiddelde "
   ]
  },
  {
   "cell_type": "code",
   "execution_count": 112,
   "metadata": {},
   "outputs": [
    {
     "data": {
      "text/plain": [
       "count    107.000000\n",
       "mean     104.388453\n",
       "std       72.982611\n",
       "min       15.647059\n",
       "25%       56.470588\n",
       "50%       85.888889\n",
       "75%      134.588235\n",
       "max      455.235294\n",
       "Name: fancyname, dtype: float64"
      ]
     },
     "execution_count": 112,
     "metadata": {},
     "output_type": "execute_result"
    }
   ],
   "source": [
    "gem_freq_d.describe()"
   ]
  },
  {
   "cell_type": "code",
   "execution_count": 113,
   "metadata": {},
   "outputs": [],
   "source": [
    "mean = 104.39\n",
    "SD = 72.98"
   ]
  },
  {
   "cell_type": "code",
   "execution_count": 114,
   "metadata": {},
   "outputs": [],
   "source": [
    "prob_freq = mean + SD"
   ]
  },
  {
   "cell_type": "code",
   "execution_count": 115,
   "metadata": {},
   "outputs": [
    {
     "data": {
      "text/plain": [
       "177.37"
      ]
     },
     "execution_count": 115,
     "metadata": {},
     "output_type": "execute_result"
    }
   ],
   "source": [
    "prob_freq"
   ]
  },
  {
   "cell_type": "code",
   "execution_count": 119,
   "metadata": {},
   "outputs": [],
   "source": [
    "df_freq =  df.groupby(['id', 'dag'])['fancyname'].count().to_frame().reset_index()"
   ]
  },
  {
   "cell_type": "code",
   "execution_count": 121,
   "metadata": {},
   "outputs": [],
   "source": [
    "df_freq.columns = ['id', 'dag', 'appevents']"
   ]
  },
  {
   "cell_type": "code",
   "execution_count": 122,
   "metadata": {},
   "outputs": [],
   "source": [
    "def probfreq (row):\n",
    "    appE = row[\"appevents\"]\n",
    "    \n",
    "    if (appE > 177.37):\n",
    "        return \"ja\"\n",
    "    else:\n",
    "        return \"nee\""
   ]
  },
  {
   "cell_type": "code",
   "execution_count": 123,
   "metadata": {},
   "outputs": [],
   "source": [
    "df_freq['probfreq'] = df_freq.apply(probfreq, axis=1)"
   ]
  },
  {
   "cell_type": "code",
   "execution_count": 124,
   "metadata": {},
   "outputs": [
    {
     "data": {
      "text/html": [
       "<div>\n",
       "<style scoped>\n",
       "    .dataframe tbody tr th:only-of-type {\n",
       "        vertical-align: middle;\n",
       "    }\n",
       "\n",
       "    .dataframe tbody tr th {\n",
       "        vertical-align: top;\n",
       "    }\n",
       "\n",
       "    .dataframe thead th {\n",
       "        text-align: right;\n",
       "    }\n",
       "</style>\n",
       "<table border=\"1\" class=\"dataframe\">\n",
       "  <thead>\n",
       "    <tr style=\"text-align: right;\">\n",
       "      <th></th>\n",
       "      <th>id</th>\n",
       "      <th>dag</th>\n",
       "      <th>appevents</th>\n",
       "      <th>probfreq</th>\n",
       "    </tr>\n",
       "  </thead>\n",
       "  <tbody>\n",
       "    <tr>\n",
       "      <td>0</td>\n",
       "      <td>025a9d5a-8728-434d-9de6-9c263e7bf5cc</td>\n",
       "      <td>2018-12-21</td>\n",
       "      <td>82</td>\n",
       "      <td>nee</td>\n",
       "    </tr>\n",
       "    <tr>\n",
       "      <td>1</td>\n",
       "      <td>025a9d5a-8728-434d-9de6-9c263e7bf5cc</td>\n",
       "      <td>2018-12-22</td>\n",
       "      <td>26</td>\n",
       "      <td>nee</td>\n",
       "    </tr>\n",
       "    <tr>\n",
       "      <td>2</td>\n",
       "      <td>025a9d5a-8728-434d-9de6-9c263e7bf5cc</td>\n",
       "      <td>2018-12-23</td>\n",
       "      <td>24</td>\n",
       "      <td>nee</td>\n",
       "    </tr>\n",
       "    <tr>\n",
       "      <td>3</td>\n",
       "      <td>025a9d5a-8728-434d-9de6-9c263e7bf5cc</td>\n",
       "      <td>2018-12-24</td>\n",
       "      <td>64</td>\n",
       "      <td>nee</td>\n",
       "    </tr>\n",
       "    <tr>\n",
       "      <td>4</td>\n",
       "      <td>025a9d5a-8728-434d-9de6-9c263e7bf5cc</td>\n",
       "      <td>2018-12-25</td>\n",
       "      <td>36</td>\n",
       "      <td>nee</td>\n",
       "    </tr>\n",
       "    <tr>\n",
       "      <td>...</td>\n",
       "      <td>...</td>\n",
       "      <td>...</td>\n",
       "      <td>...</td>\n",
       "      <td>...</td>\n",
       "    </tr>\n",
       "    <tr>\n",
       "      <td>1621</td>\n",
       "      <td>f9b010d8-45b9-498f-a465-b6355cbdd7e3</td>\n",
       "      <td>2019-01-02</td>\n",
       "      <td>5</td>\n",
       "      <td>nee</td>\n",
       "    </tr>\n",
       "    <tr>\n",
       "      <td>1622</td>\n",
       "      <td>f9b010d8-45b9-498f-a465-b6355cbdd7e3</td>\n",
       "      <td>2019-01-03</td>\n",
       "      <td>13</td>\n",
       "      <td>nee</td>\n",
       "    </tr>\n",
       "    <tr>\n",
       "      <td>1623</td>\n",
       "      <td>f9b010d8-45b9-498f-a465-b6355cbdd7e3</td>\n",
       "      <td>2019-01-04</td>\n",
       "      <td>7</td>\n",
       "      <td>nee</td>\n",
       "    </tr>\n",
       "    <tr>\n",
       "      <td>1624</td>\n",
       "      <td>f9b010d8-45b9-498f-a465-b6355cbdd7e3</td>\n",
       "      <td>2019-01-05</td>\n",
       "      <td>11</td>\n",
       "      <td>nee</td>\n",
       "    </tr>\n",
       "    <tr>\n",
       "      <td>1625</td>\n",
       "      <td>f9b010d8-45b9-498f-a465-b6355cbdd7e3</td>\n",
       "      <td>2019-01-06</td>\n",
       "      <td>18</td>\n",
       "      <td>nee</td>\n",
       "    </tr>\n",
       "  </tbody>\n",
       "</table>\n",
       "<p>1626 rows × 4 columns</p>\n",
       "</div>"
      ],
      "text/plain": [
       "                                        id        dag  appevents probfreq\n",
       "0     025a9d5a-8728-434d-9de6-9c263e7bf5cc 2018-12-21         82      nee\n",
       "1     025a9d5a-8728-434d-9de6-9c263e7bf5cc 2018-12-22         26      nee\n",
       "2     025a9d5a-8728-434d-9de6-9c263e7bf5cc 2018-12-23         24      nee\n",
       "3     025a9d5a-8728-434d-9de6-9c263e7bf5cc 2018-12-24         64      nee\n",
       "4     025a9d5a-8728-434d-9de6-9c263e7bf5cc 2018-12-25         36      nee\n",
       "...                                    ...        ...        ...      ...\n",
       "1621  f9b010d8-45b9-498f-a465-b6355cbdd7e3 2019-01-02          5      nee\n",
       "1622  f9b010d8-45b9-498f-a465-b6355cbdd7e3 2019-01-03         13      nee\n",
       "1623  f9b010d8-45b9-498f-a465-b6355cbdd7e3 2019-01-04          7      nee\n",
       "1624  f9b010d8-45b9-498f-a465-b6355cbdd7e3 2019-01-05         11      nee\n",
       "1625  f9b010d8-45b9-498f-a465-b6355cbdd7e3 2019-01-06         18      nee\n",
       "\n",
       "[1626 rows x 4 columns]"
      ]
     },
     "execution_count": 124,
     "metadata": {},
     "output_type": "execute_result"
    }
   ],
   "source": [
    "df_freq"
   ]
  },
  {
   "cell_type": "code",
   "execution_count": null,
   "metadata": {},
   "outputs": [],
   "source": [
    "#pd.crosstab(foo, bar, dropna=False)"
   ]
  },
  {
   "cell_type": "code",
   "execution_count": 125,
   "metadata": {},
   "outputs": [],
   "source": [
    "probfreq_table = pd.crosstab(df_freq['id'], df_freq['probfreq'])"
   ]
  },
  {
   "cell_type": "code",
   "execution_count": 127,
   "metadata": {},
   "outputs": [],
   "source": [
    "probfreq_table = probfreq_table.reset_index()"
   ]
  },
  {
   "cell_type": "code",
   "execution_count": 129,
   "metadata": {},
   "outputs": [],
   "source": [
    "logdag = pd.read_excel('C:/Users/fdnecker/OneDrive - UGent/UGent/2019-2020/Doctoraat Floor/2019-2020/Smartphone_slaap_SimonA/MobileDNA data/input/logdag.xlsx')"
   ]
  },
  {
   "cell_type": "code",
   "execution_count": 130,
   "metadata": {},
   "outputs": [],
   "source": [
    "probfreq_table = pd.merge(probfreq_table, logdag, on='id')"
   ]
  },
  {
   "cell_type": "code",
   "execution_count": 131,
   "metadata": {},
   "outputs": [
    {
     "data": {
      "text/html": [
       "<div>\n",
       "<style scoped>\n",
       "    .dataframe tbody tr th:only-of-type {\n",
       "        vertical-align: middle;\n",
       "    }\n",
       "\n",
       "    .dataframe tbody tr th {\n",
       "        vertical-align: top;\n",
       "    }\n",
       "\n",
       "    .dataframe thead th {\n",
       "        text-align: right;\n",
       "    }\n",
       "</style>\n",
       "<table border=\"1\" class=\"dataframe\">\n",
       "  <thead>\n",
       "    <tr style=\"text-align: right;\">\n",
       "      <th></th>\n",
       "      <th>id</th>\n",
       "      <th>ja</th>\n",
       "      <th>nee</th>\n",
       "      <th>logdagen</th>\n",
       "    </tr>\n",
       "  </thead>\n",
       "  <tbody>\n",
       "    <tr>\n",
       "      <td>0</td>\n",
       "      <td>025a9d5a-8728-434d-9de6-9c263e7bf5cc</td>\n",
       "      <td>0</td>\n",
       "      <td>17</td>\n",
       "      <td>17</td>\n",
       "    </tr>\n",
       "    <tr>\n",
       "      <td>1</td>\n",
       "      <td>11159c15-a951-4219-850d-c33768509b01</td>\n",
       "      <td>0</td>\n",
       "      <td>17</td>\n",
       "      <td>17</td>\n",
       "    </tr>\n",
       "    <tr>\n",
       "      <td>2</td>\n",
       "      <td>1201c8b4-6a0b-45f0-ac63-04b258d6d668</td>\n",
       "      <td>2</td>\n",
       "      <td>15</td>\n",
       "      <td>17</td>\n",
       "    </tr>\n",
       "    <tr>\n",
       "      <td>3</td>\n",
       "      <td>12efa7c1-14af-4a50-ad7d-10d76c77af92</td>\n",
       "      <td>1</td>\n",
       "      <td>15</td>\n",
       "      <td>16</td>\n",
       "    </tr>\n",
       "    <tr>\n",
       "      <td>4</td>\n",
       "      <td>130d3a79-9b84-43c3-b279-5ddb3c1390d2</td>\n",
       "      <td>3</td>\n",
       "      <td>5</td>\n",
       "      <td>8</td>\n",
       "    </tr>\n",
       "    <tr>\n",
       "      <td>...</td>\n",
       "      <td>...</td>\n",
       "      <td>...</td>\n",
       "      <td>...</td>\n",
       "      <td>...</td>\n",
       "    </tr>\n",
       "    <tr>\n",
       "      <td>101</td>\n",
       "      <td>f29e3bf2-8b9a-48a5-a83f-dcff88fe9b70</td>\n",
       "      <td>2</td>\n",
       "      <td>15</td>\n",
       "      <td>17</td>\n",
       "    </tr>\n",
       "    <tr>\n",
       "      <td>102</td>\n",
       "      <td>f3214263-3140-4687-bd61-1fbc68623b3f</td>\n",
       "      <td>9</td>\n",
       "      <td>8</td>\n",
       "      <td>17</td>\n",
       "    </tr>\n",
       "    <tr>\n",
       "      <td>103</td>\n",
       "      <td>f3d282d8-1be9-4cde-aa37-21e4dbacd77b</td>\n",
       "      <td>0</td>\n",
       "      <td>17</td>\n",
       "      <td>17</td>\n",
       "    </tr>\n",
       "    <tr>\n",
       "      <td>104</td>\n",
       "      <td>f6b9965f-312a-44e8-a54c-ea16242894fa</td>\n",
       "      <td>0</td>\n",
       "      <td>17</td>\n",
       "      <td>17</td>\n",
       "    </tr>\n",
       "    <tr>\n",
       "      <td>105</td>\n",
       "      <td>f9b010d8-45b9-498f-a465-b6355cbdd7e3</td>\n",
       "      <td>0</td>\n",
       "      <td>17</td>\n",
       "      <td>17</td>\n",
       "    </tr>\n",
       "  </tbody>\n",
       "</table>\n",
       "<p>106 rows × 4 columns</p>\n",
       "</div>"
      ],
      "text/plain": [
       "                                       id  ja  nee  logdagen\n",
       "0    025a9d5a-8728-434d-9de6-9c263e7bf5cc   0   17        17\n",
       "1    11159c15-a951-4219-850d-c33768509b01   0   17        17\n",
       "2    1201c8b4-6a0b-45f0-ac63-04b258d6d668   2   15        17\n",
       "3    12efa7c1-14af-4a50-ad7d-10d76c77af92   1   15        16\n",
       "4    130d3a79-9b84-43c3-b279-5ddb3c1390d2   3    5         8\n",
       "..                                    ...  ..  ...       ...\n",
       "101  f29e3bf2-8b9a-48a5-a83f-dcff88fe9b70   2   15        17\n",
       "102  f3214263-3140-4687-bd61-1fbc68623b3f   9    8        17\n",
       "103  f3d282d8-1be9-4cde-aa37-21e4dbacd77b   0   17        17\n",
       "104  f6b9965f-312a-44e8-a54c-ea16242894fa   0   17        17\n",
       "105  f9b010d8-45b9-498f-a465-b6355cbdd7e3   0   17        17\n",
       "\n",
       "[106 rows x 4 columns]"
      ]
     },
     "execution_count": 131,
     "metadata": {},
     "output_type": "execute_result"
    }
   ],
   "source": [
    "probfreq_table"
   ]
  },
  {
   "cell_type": "code",
   "execution_count": 132,
   "metadata": {},
   "outputs": [],
   "source": [
    "probfreq_table['per_d_prob_freq'] = probfreq_table['ja']/probfreq_table['logdagen'] "
   ]
  },
  {
   "cell_type": "code",
   "execution_count": 133,
   "metadata": {},
   "outputs": [],
   "source": [
    "probfreq_table.to_excel('probfreq.xlsx')"
   ]
  },
  {
   "cell_type": "markdown",
   "metadata": {},
   "source": [
    "## Variabele 5 = per_d_prob_duur; percentage van dagen met duur van dagelijks smartphonegebruik 1 SD boven algemeen gemiddelde "
   ]
  },
  {
   "cell_type": "code",
   "execution_count": 140,
   "metadata": {},
   "outputs": [],
   "source": [
    "gem_duur_min_d = gem_duur_min_d.reset_index()"
   ]
  },
  {
   "cell_type": "code",
   "execution_count": 141,
   "metadata": {},
   "outputs": [
    {
     "data": {
      "text/html": [
       "<div>\n",
       "<style scoped>\n",
       "    .dataframe tbody tr th:only-of-type {\n",
       "        vertical-align: middle;\n",
       "    }\n",
       "\n",
       "    .dataframe tbody tr th {\n",
       "        vertical-align: top;\n",
       "    }\n",
       "\n",
       "    .dataframe thead th {\n",
       "        text-align: right;\n",
       "    }\n",
       "</style>\n",
       "<table border=\"1\" class=\"dataframe\">\n",
       "  <thead>\n",
       "    <tr style=\"text-align: right;\">\n",
       "      <th></th>\n",
       "      <th>duur_min</th>\n",
       "    </tr>\n",
       "  </thead>\n",
       "  <tbody>\n",
       "    <tr>\n",
       "      <td>count</td>\n",
       "      <td>106.000000</td>\n",
       "    </tr>\n",
       "    <tr>\n",
       "      <td>mean</td>\n",
       "      <td>187.701159</td>\n",
       "    </tr>\n",
       "    <tr>\n",
       "      <td>std</td>\n",
       "      <td>105.855178</td>\n",
       "    </tr>\n",
       "    <tr>\n",
       "      <td>min</td>\n",
       "      <td>26.480255</td>\n",
       "    </tr>\n",
       "    <tr>\n",
       "      <td>25%</td>\n",
       "      <td>110.336987</td>\n",
       "    </tr>\n",
       "    <tr>\n",
       "      <td>50%</td>\n",
       "      <td>166.797539</td>\n",
       "    </tr>\n",
       "    <tr>\n",
       "      <td>75%</td>\n",
       "      <td>231.959765</td>\n",
       "    </tr>\n",
       "    <tr>\n",
       "      <td>max</td>\n",
       "      <td>579.806778</td>\n",
       "    </tr>\n",
       "  </tbody>\n",
       "</table>\n",
       "</div>"
      ],
      "text/plain": [
       "         duur_min\n",
       "count  106.000000\n",
       "mean   187.701159\n",
       "std    105.855178\n",
       "min     26.480255\n",
       "25%    110.336987\n",
       "50%    166.797539\n",
       "75%    231.959765\n",
       "max    579.806778"
      ]
     },
     "execution_count": 141,
     "metadata": {},
     "output_type": "execute_result"
    }
   ],
   "source": [
    "gem_duur_min_d.describe()"
   ]
  },
  {
   "cell_type": "code",
   "execution_count": 142,
   "metadata": {},
   "outputs": [],
   "source": [
    "mean_duur = 187.70\n",
    "SD_duur = 105.86"
   ]
  },
  {
   "cell_type": "code",
   "execution_count": 143,
   "metadata": {},
   "outputs": [],
   "source": [
    "prob_duur = mean_duur + SD_duur "
   ]
  },
  {
   "cell_type": "code",
   "execution_count": 144,
   "metadata": {},
   "outputs": [
    {
     "data": {
      "text/plain": [
       "293.56"
      ]
     },
     "execution_count": 144,
     "metadata": {},
     "output_type": "execute_result"
    }
   ],
   "source": [
    "prob_duur"
   ]
  },
  {
   "cell_type": "code",
   "execution_count": 145,
   "metadata": {},
   "outputs": [],
   "source": [
    "df_duur = df_new"
   ]
  },
  {
   "cell_type": "code",
   "execution_count": 146,
   "metadata": {},
   "outputs": [
    {
     "data": {
      "text/html": [
       "<div>\n",
       "<style scoped>\n",
       "    .dataframe tbody tr th:only-of-type {\n",
       "        vertical-align: middle;\n",
       "    }\n",
       "\n",
       "    .dataframe tbody tr th {\n",
       "        vertical-align: top;\n",
       "    }\n",
       "\n",
       "    .dataframe thead th {\n",
       "        text-align: right;\n",
       "    }\n",
       "</style>\n",
       "<table border=\"1\" class=\"dataframe\">\n",
       "  <thead>\n",
       "    <tr style=\"text-align: right;\">\n",
       "      <th></th>\n",
       "      <th>id</th>\n",
       "      <th>dag</th>\n",
       "      <th>duur_min</th>\n",
       "      <th>grens1</th>\n",
       "      <th>grens2</th>\n",
       "    </tr>\n",
       "  </thead>\n",
       "  <tbody>\n",
       "    <tr>\n",
       "      <td>0</td>\n",
       "      <td>025a9d5a-8728-434d-9de6-9c263e7bf5cc</td>\n",
       "      <td>2018-12-21</td>\n",
       "      <td>63.174383</td>\n",
       "      <td>minder dan 2u</td>\n",
       "      <td>minder dan 4u</td>\n",
       "    </tr>\n",
       "    <tr>\n",
       "      <td>1</td>\n",
       "      <td>025a9d5a-8728-434d-9de6-9c263e7bf5cc</td>\n",
       "      <td>2018-12-22</td>\n",
       "      <td>28.295283</td>\n",
       "      <td>minder dan 2u</td>\n",
       "      <td>minder dan 4u</td>\n",
       "    </tr>\n",
       "    <tr>\n",
       "      <td>2</td>\n",
       "      <td>025a9d5a-8728-434d-9de6-9c263e7bf5cc</td>\n",
       "      <td>2018-12-23</td>\n",
       "      <td>48.652317</td>\n",
       "      <td>minder dan 2u</td>\n",
       "      <td>minder dan 4u</td>\n",
       "    </tr>\n",
       "    <tr>\n",
       "      <td>3</td>\n",
       "      <td>025a9d5a-8728-434d-9de6-9c263e7bf5cc</td>\n",
       "      <td>2018-12-24</td>\n",
       "      <td>96.388067</td>\n",
       "      <td>minder dan 2u</td>\n",
       "      <td>minder dan 4u</td>\n",
       "    </tr>\n",
       "    <tr>\n",
       "      <td>4</td>\n",
       "      <td>025a9d5a-8728-434d-9de6-9c263e7bf5cc</td>\n",
       "      <td>2018-12-25</td>\n",
       "      <td>64.702883</td>\n",
       "      <td>minder dan 2u</td>\n",
       "      <td>minder dan 4u</td>\n",
       "    </tr>\n",
       "  </tbody>\n",
       "</table>\n",
       "</div>"
      ],
      "text/plain": [
       "                                     id        dag   duur_min         grens1  \\\n",
       "0  025a9d5a-8728-434d-9de6-9c263e7bf5cc 2018-12-21  63.174383  minder dan 2u   \n",
       "1  025a9d5a-8728-434d-9de6-9c263e7bf5cc 2018-12-22  28.295283  minder dan 2u   \n",
       "2  025a9d5a-8728-434d-9de6-9c263e7bf5cc 2018-12-23  48.652317  minder dan 2u   \n",
       "3  025a9d5a-8728-434d-9de6-9c263e7bf5cc 2018-12-24  96.388067  minder dan 2u   \n",
       "4  025a9d5a-8728-434d-9de6-9c263e7bf5cc 2018-12-25  64.702883  minder dan 2u   \n",
       "\n",
       "          grens2  \n",
       "0  minder dan 4u  \n",
       "1  minder dan 4u  \n",
       "2  minder dan 4u  \n",
       "3  minder dan 4u  \n",
       "4  minder dan 4u  "
      ]
     },
     "execution_count": 146,
     "metadata": {},
     "output_type": "execute_result"
    }
   ],
   "source": [
    "df_duur.head()"
   ]
  },
  {
   "cell_type": "code",
   "execution_count": null,
   "metadata": {},
   "outputs": [],
   "source": []
  },
  {
   "cell_type": "code",
   "execution_count": 147,
   "metadata": {},
   "outputs": [],
   "source": [
    "def probduur (row):\n",
    "    duur = row[\"duur_min\"]\n",
    "    \n",
    "    if (duur > 293.56):\n",
    "        return \"ja\"\n",
    "    else:\n",
    "        return \"nee\""
   ]
  },
  {
   "cell_type": "code",
   "execution_count": 148,
   "metadata": {},
   "outputs": [],
   "source": [
    "df_duur['prob_duur'] = df_duur.apply(probduur, axis=1)"
   ]
  },
  {
   "cell_type": "code",
   "execution_count": 149,
   "metadata": {},
   "outputs": [
    {
     "data": {
      "text/html": [
       "<div>\n",
       "<style scoped>\n",
       "    .dataframe tbody tr th:only-of-type {\n",
       "        vertical-align: middle;\n",
       "    }\n",
       "\n",
       "    .dataframe tbody tr th {\n",
       "        vertical-align: top;\n",
       "    }\n",
       "\n",
       "    .dataframe thead th {\n",
       "        text-align: right;\n",
       "    }\n",
       "</style>\n",
       "<table border=\"1\" class=\"dataframe\">\n",
       "  <thead>\n",
       "    <tr style=\"text-align: right;\">\n",
       "      <th></th>\n",
       "      <th>id</th>\n",
       "      <th>dag</th>\n",
       "      <th>duur_min</th>\n",
       "      <th>grens1</th>\n",
       "      <th>grens2</th>\n",
       "      <th>prob_duur</th>\n",
       "    </tr>\n",
       "  </thead>\n",
       "  <tbody>\n",
       "    <tr>\n",
       "      <td>0</td>\n",
       "      <td>025a9d5a-8728-434d-9de6-9c263e7bf5cc</td>\n",
       "      <td>2018-12-21</td>\n",
       "      <td>63.174383</td>\n",
       "      <td>minder dan 2u</td>\n",
       "      <td>minder dan 4u</td>\n",
       "      <td>nee</td>\n",
       "    </tr>\n",
       "    <tr>\n",
       "      <td>1</td>\n",
       "      <td>025a9d5a-8728-434d-9de6-9c263e7bf5cc</td>\n",
       "      <td>2018-12-22</td>\n",
       "      <td>28.295283</td>\n",
       "      <td>minder dan 2u</td>\n",
       "      <td>minder dan 4u</td>\n",
       "      <td>nee</td>\n",
       "    </tr>\n",
       "    <tr>\n",
       "      <td>2</td>\n",
       "      <td>025a9d5a-8728-434d-9de6-9c263e7bf5cc</td>\n",
       "      <td>2018-12-23</td>\n",
       "      <td>48.652317</td>\n",
       "      <td>minder dan 2u</td>\n",
       "      <td>minder dan 4u</td>\n",
       "      <td>nee</td>\n",
       "    </tr>\n",
       "    <tr>\n",
       "      <td>3</td>\n",
       "      <td>025a9d5a-8728-434d-9de6-9c263e7bf5cc</td>\n",
       "      <td>2018-12-24</td>\n",
       "      <td>96.388067</td>\n",
       "      <td>minder dan 2u</td>\n",
       "      <td>minder dan 4u</td>\n",
       "      <td>nee</td>\n",
       "    </tr>\n",
       "    <tr>\n",
       "      <td>4</td>\n",
       "      <td>025a9d5a-8728-434d-9de6-9c263e7bf5cc</td>\n",
       "      <td>2018-12-25</td>\n",
       "      <td>64.702883</td>\n",
       "      <td>minder dan 2u</td>\n",
       "      <td>minder dan 4u</td>\n",
       "      <td>nee</td>\n",
       "    </tr>\n",
       "    <tr>\n",
       "      <td>...</td>\n",
       "      <td>...</td>\n",
       "      <td>...</td>\n",
       "      <td>...</td>\n",
       "      <td>...</td>\n",
       "      <td>...</td>\n",
       "      <td>...</td>\n",
       "    </tr>\n",
       "    <tr>\n",
       "      <td>1621</td>\n",
       "      <td>f9b010d8-45b9-498f-a465-b6355cbdd7e3</td>\n",
       "      <td>2019-01-02</td>\n",
       "      <td>4.486917</td>\n",
       "      <td>minder dan 2u</td>\n",
       "      <td>minder dan 4u</td>\n",
       "      <td>nee</td>\n",
       "    </tr>\n",
       "    <tr>\n",
       "      <td>1622</td>\n",
       "      <td>f9b010d8-45b9-498f-a465-b6355cbdd7e3</td>\n",
       "      <td>2019-01-03</td>\n",
       "      <td>9.414233</td>\n",
       "      <td>minder dan 2u</td>\n",
       "      <td>minder dan 4u</td>\n",
       "      <td>nee</td>\n",
       "    </tr>\n",
       "    <tr>\n",
       "      <td>1623</td>\n",
       "      <td>f9b010d8-45b9-498f-a465-b6355cbdd7e3</td>\n",
       "      <td>2019-01-04</td>\n",
       "      <td>5.373333</td>\n",
       "      <td>minder dan 2u</td>\n",
       "      <td>minder dan 4u</td>\n",
       "      <td>nee</td>\n",
       "    </tr>\n",
       "    <tr>\n",
       "      <td>1624</td>\n",
       "      <td>f9b010d8-45b9-498f-a465-b6355cbdd7e3</td>\n",
       "      <td>2019-01-05</td>\n",
       "      <td>11.477900</td>\n",
       "      <td>minder dan 2u</td>\n",
       "      <td>minder dan 4u</td>\n",
       "      <td>nee</td>\n",
       "    </tr>\n",
       "    <tr>\n",
       "      <td>1625</td>\n",
       "      <td>f9b010d8-45b9-498f-a465-b6355cbdd7e3</td>\n",
       "      <td>2019-01-06</td>\n",
       "      <td>13.809867</td>\n",
       "      <td>minder dan 2u</td>\n",
       "      <td>minder dan 4u</td>\n",
       "      <td>nee</td>\n",
       "    </tr>\n",
       "  </tbody>\n",
       "</table>\n",
       "<p>1626 rows × 6 columns</p>\n",
       "</div>"
      ],
      "text/plain": [
       "                                        id        dag   duur_min  \\\n",
       "0     025a9d5a-8728-434d-9de6-9c263e7bf5cc 2018-12-21  63.174383   \n",
       "1     025a9d5a-8728-434d-9de6-9c263e7bf5cc 2018-12-22  28.295283   \n",
       "2     025a9d5a-8728-434d-9de6-9c263e7bf5cc 2018-12-23  48.652317   \n",
       "3     025a9d5a-8728-434d-9de6-9c263e7bf5cc 2018-12-24  96.388067   \n",
       "4     025a9d5a-8728-434d-9de6-9c263e7bf5cc 2018-12-25  64.702883   \n",
       "...                                    ...        ...        ...   \n",
       "1621  f9b010d8-45b9-498f-a465-b6355cbdd7e3 2019-01-02   4.486917   \n",
       "1622  f9b010d8-45b9-498f-a465-b6355cbdd7e3 2019-01-03   9.414233   \n",
       "1623  f9b010d8-45b9-498f-a465-b6355cbdd7e3 2019-01-04   5.373333   \n",
       "1624  f9b010d8-45b9-498f-a465-b6355cbdd7e3 2019-01-05  11.477900   \n",
       "1625  f9b010d8-45b9-498f-a465-b6355cbdd7e3 2019-01-06  13.809867   \n",
       "\n",
       "             grens1         grens2 prob_duur  \n",
       "0     minder dan 2u  minder dan 4u       nee  \n",
       "1     minder dan 2u  minder dan 4u       nee  \n",
       "2     minder dan 2u  minder dan 4u       nee  \n",
       "3     minder dan 2u  minder dan 4u       nee  \n",
       "4     minder dan 2u  minder dan 4u       nee  \n",
       "...             ...            ...       ...  \n",
       "1621  minder dan 2u  minder dan 4u       nee  \n",
       "1622  minder dan 2u  minder dan 4u       nee  \n",
       "1623  minder dan 2u  minder dan 4u       nee  \n",
       "1624  minder dan 2u  minder dan 4u       nee  \n",
       "1625  minder dan 2u  minder dan 4u       nee  \n",
       "\n",
       "[1626 rows x 6 columns]"
      ]
     },
     "execution_count": 149,
     "metadata": {},
     "output_type": "execute_result"
    }
   ],
   "source": [
    "df_duur"
   ]
  },
  {
   "cell_type": "code",
   "execution_count": 150,
   "metadata": {},
   "outputs": [],
   "source": [
    "probduur_table = pd.crosstab(df_duur['id'], df_duur['prob_duur'])"
   ]
  },
  {
   "cell_type": "code",
   "execution_count": 151,
   "metadata": {},
   "outputs": [],
   "source": [
    "probduur_table = probduur_table.reset_index()"
   ]
  },
  {
   "cell_type": "code",
   "execution_count": 152,
   "metadata": {},
   "outputs": [],
   "source": [
    "logdag = pd.read_excel('C:/Users/fdnecker/OneDrive - UGent/UGent/2019-2020/Doctoraat Floor/2019-2020/Smartphone_slaap_SimonA/MobileDNA data/input/logdag.xlsx')"
   ]
  },
  {
   "cell_type": "code",
   "execution_count": 153,
   "metadata": {},
   "outputs": [],
   "source": [
    "probduur_table = pd.merge(probduur_table, logdag, on='id')"
   ]
  },
  {
   "cell_type": "code",
   "execution_count": 154,
   "metadata": {},
   "outputs": [],
   "source": [
    "probduur_table['per_d_prob_duur'] = probduur_table['ja']/probduur_table['logdagen'] "
   ]
  },
  {
   "cell_type": "code",
   "execution_count": 155,
   "metadata": {},
   "outputs": [],
   "source": [
    "probduur_table.to_excel('probduur.xlsx')"
   ]
  },
  {
   "cell_type": "code",
   "execution_count": null,
   "metadata": {},
   "outputs": [],
   "source": []
  }
 ],
 "metadata": {
  "kernelspec": {
   "display_name": "Python 3",
   "language": "python",
   "name": "python3"
  },
  "language_info": {
   "codemirror_mode": {
    "name": "ipython",
    "version": 3
   },
   "file_extension": ".py",
   "mimetype": "text/x-python",
   "name": "python",
   "nbconvert_exporter": "python",
   "pygments_lexer": "ipython3",
   "version": "3.7.4"
  }
 },
 "nbformat": 4,
 "nbformat_minor": 4
}
